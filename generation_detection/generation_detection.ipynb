{
 "cells": [
  {
   "cell_type": "code",
   "execution_count": 356,
   "metadata": {},
   "outputs": [],
   "source": [
    "from nltk.tokenize import sent_tokenize, word_tokenize\n",
    "import pandas as pd\n",
    "import numpy as np\n",
    "import markovify\n",
    "from sklearn.model_selection import GridSearchCV, train_test_split\n",
    "from sklearn.pipeline import Pipeline\n",
    "from nltk.corpus import stopwords\n",
    "from sklearn.feature_extraction.text import TfidfVectorizer\n",
    "from sklearn.linear_model import LogisticRegression\n",
    "from sklearn.ensemble import RandomForestClassifier\n",
    "from sklearn.svm import LinearSVC\n",
    "from sklearn.metrics import *\n",
    "from string import punctuation"
   ]
  },
  {
   "cell_type": "code",
   "execution_count": 306,
   "metadata": {},
   "outputs": [],
   "source": [
    "STOPWORDS = stopwords.words('russian')"
   ]
  },
  {
   "cell_type": "code",
   "execution_count": 29,
   "metadata": {},
   "outputs": [],
   "source": [
    "text = ''\n",
    "for i in range(1, 5):\n",
    "    with open(f'voyna-i-mir-tom-{i}.txt', encoding='utf-8') as f:\n",
    "        text += (f.read() + '\\n')"
   ]
  },
  {
   "cell_type": "code",
   "execution_count": 30,
   "metadata": {},
   "outputs": [],
   "source": [
    "sentences = sent_tokenize(text)"
   ]
  },
  {
   "cell_type": "code",
   "execution_count": 46,
   "metadata": {},
   "outputs": [],
   "source": [
    "original = pd.DataFrame(sentences)"
   ]
  },
  {
   "cell_type": "code",
   "execution_count": 47,
   "metadata": {},
   "outputs": [],
   "source": [
    "original.rename(columns={0: 'text'}, inplace=True)"
   ]
  },
  {
   "cell_type": "code",
   "execution_count": 49,
   "metadata": {},
   "outputs": [],
   "source": [
    "original['len'] = original['text'].apply(len)"
   ]
  },
  {
   "cell_type": "code",
   "execution_count": 50,
   "metadata": {},
   "outputs": [
    {
     "data": {
      "text/html": [
       "<div>\n",
       "<style scoped>\n",
       "    .dataframe tbody tr th:only-of-type {\n",
       "        vertical-align: middle;\n",
       "    }\n",
       "\n",
       "    .dataframe tbody tr th {\n",
       "        vertical-align: top;\n",
       "    }\n",
       "\n",
       "    .dataframe thead th {\n",
       "        text-align: right;\n",
       "    }\n",
       "</style>\n",
       "<table border=\"1\" class=\"dataframe\">\n",
       "  <thead>\n",
       "    <tr style=\"text-align: right;\">\n",
       "      <th></th>\n",
       "      <th>text</th>\n",
       "      <th>len</th>\n",
       "    </tr>\n",
       "  </thead>\n",
       "  <tbody>\n",
       "    <tr>\n",
       "      <td>0</td>\n",
       "      <td>Лев Николаевич Толстой \\nВойна и мир.</td>\n",
       "      <td>36</td>\n",
       "    </tr>\n",
       "    <tr>\n",
       "      <td>1</td>\n",
       "      <td>Том 1\\n     \\n\\n     \\nЛев Николаевич Толстой\\...</td>\n",
       "      <td>122</td>\n",
       "    </tr>\n",
       "    <tr>\n",
       "      <td>2</td>\n",
       "      <td>Genes et Lucques ne sont plus que des apanages...</td>\n",
       "      <td>87</td>\n",
       "    </tr>\n",
       "    <tr>\n",
       "      <td>3</td>\n",
       "      <td>Non, je vous previens, que si vous ne me dites...</td>\n",
       "      <td>305</td>\n",
       "    </tr>\n",
       "    <tr>\n",
       "      <td>4</td>\n",
       "      <td>[  Ну, что, князь, Генуа и Лукка стали не боль...</td>\n",
       "      <td>83</td>\n",
       "    </tr>\n",
       "    <tr>\n",
       "      <td>...</td>\n",
       "      <td>...</td>\n",
       "      <td>...</td>\n",
       "    </tr>\n",
       "    <tr>\n",
       "      <td>31476</td>\n",
       "      <td>(сноска 10) нитями богородицы.</td>\n",
       "      <td>30</td>\n",
       "    </tr>\n",
       "    <tr>\n",
       "      <td>31477</td>\n",
       "      <td>(сноска 11) Вы нездоровы?</td>\n",
       "      <td>25</td>\n",
       "    </tr>\n",
       "    <tr>\n",
       "      <td>31478</td>\n",
       "      <td>(сноска 12) Нет.</td>\n",
       "      <td>16</td>\n",
       "    </tr>\n",
       "    <tr>\n",
       "      <td>31479</td>\n",
       "      <td>(сноска 13) Общественный договор.</td>\n",
       "      <td>33</td>\n",
       "    </tr>\n",
       "    <tr>\n",
       "      <td>31480</td>\n",
       "      <td>- Ред.</td>\n",
       "      <td>6</td>\n",
       "    </tr>\n",
       "  </tbody>\n",
       "</table>\n",
       "<p>31481 rows × 2 columns</p>\n",
       "</div>"
      ],
      "text/plain": [
       "                                                    text  len\n",
       "0                  Лев Николаевич Толстой \\nВойна и мир.   36\n",
       "1      Том 1\\n     \\n\\n     \\nЛев Николаевич Толстой\\...  122\n",
       "2      Genes et Lucques ne sont plus que des apanages...   87\n",
       "3      Non, je vous previens, que si vous ne me dites...  305\n",
       "4      [  Ну, что, князь, Генуа и Лукка стали не боль...   83\n",
       "...                                                  ...  ...\n",
       "31476                     (сноска 10) нитями богородицы.   30\n",
       "31477                          (сноска 11) Вы нездоровы?   25\n",
       "31478                                   (сноска 12) Нет.   16\n",
       "31479                  (сноска 13) Общественный договор.   33\n",
       "31480                                             - Ред.    6\n",
       "\n",
       "[31481 rows x 2 columns]"
      ]
     },
     "execution_count": 50,
     "metadata": {},
     "output_type": "execute_result"
    }
   ],
   "source": [
    "original"
   ]
  },
  {
   "cell_type": "code",
   "execution_count": 63,
   "metadata": {},
   "outputs": [
    {
     "data": {
      "text/plain": [
       "<matplotlib.axes._subplots.AxesSubplot at 0x2763880a860>"
      ]
     },
     "execution_count": 63,
     "metadata": {},
     "output_type": "execute_result"
    },
    {
     "data": {
      "image/png": "[encoded data removed]",
      "text/plain": [
       "<Figure size 432x288 with 1 Axes>"
      ]
     },
     "metadata": {
      "needs_background": "light"
     },
     "output_type": "display_data"
    }
   ],
   "source": [
    "original['len'].hist(bins=100)"
   ]
  },
  {
   "cell_type": "code",
   "execution_count": 62,
   "metadata": {},
   "outputs": [
    {
     "data": {
      "text/plain": [
       "<matplotlib.axes._subplots.AxesSubplot at 0x2763988c240>"
      ]
     },
     "execution_count": 62,
     "metadata": {},
     "output_type": "execute_result"
    },
    {
     "data": {
      "image/png": "[encoded data removed]",
      "text/plain": [
       "<Figure size 432x288 with 1 Axes>"
      ]
     },
     "metadata": {
      "needs_background": "light"
     },
     "output_type": "display_data"
    }
   ],
   "source": [
    "original[original['len'] < 300]['len'].hist(bins=100)"
   ]
  },
  {
   "cell_type": "code",
   "execution_count": 165,
   "metadata": {},
   "outputs": [
    {
     "data": {
      "text/plain": [
       "['Лев Николаевич Толстой \\nВойна и мир.',\n",
       " 'Том 1\\n     \\n\\n     \\nЛев Николаевич Толстой\\nВОЙНА И МИР  \\nТом 1\\n     \\nЧАСТЬ ПЕРВАЯ\\n     \\nI\\n     \\n     - Еh bien, mon prince.',\n",
       " 'Genes et Lucques ne sont plus que des apanages, des поместья, de la famille Buonaparte.',\n",
       " \"Non, je vous previens, que si vous ne me dites pas, que nous avons la guerre, si vous vous permettez encore de pallier toutes les infamies, toutes les atrocites de cet Antichrist (ma parole, j'y crois) - je ne vous connais plus, vous n'etes plus mon ami, vous n'etes plus мой верный раб, comme vous dites.\",\n",
       " '[  Ну, что, князь, Генуа и Лукка стали не больше, как поместьями фамилии Бонапарте.',\n",
       " 'Нет, я вас предупреждаю, если вы мне не скажете, что у нас война, если вы еще позволите себе защищать все гадости, все ужасы этого Антихриста (право, я верю, что он Антихрист) - я вас больше не знаю, вы уж не друг мой, вы уж не мой верный раб, как вы говорите.]',\n",
       " 'Ну, здравствуйте, здравствуйте.',\n",
       " 'Je vois que je vous fais peur, [  Я вижу, что я вас пугаю,]  садитесь и рассказывайте.',\n",
       " 'Так говорила в июле 1805 года известная Анна Павловна Шерер, фрейлина и приближенная императрицы Марии Феодоровны, встречая важного и чиновного князя Василия, первого приехавшего на ее вечер.',\n",
       " 'Анна Павловна кашляла несколько дней, у нее был грипп , как она говорила (грипп был тогда новое слово, употреблявшееся только редкими).']"
      ]
     },
     "execution_count": 165,
     "metadata": {},
     "output_type": "execute_result"
    }
   ],
   "source": [
    "list(original['text'])[:10]"
   ]
  },
  {
   "cell_type": "code",
   "execution_count": 66,
   "metadata": {},
   "outputs": [],
   "source": [
    "with open('voyna-i-mir.txt', 'w', encoding='utf-8') as f:\n",
    "    f.write('\\n'.join(list(original['text'])))"
   ]
  },
  {
   "cell_type": "code",
   "execution_count": 190,
   "metadata": {},
   "outputs": [],
   "source": [
    "original['class'] = 'original'"
   ]
  },
  {
   "cell_type": "code",
   "execution_count": 191,
   "metadata": {},
   "outputs": [
    {
     "data": {
      "text/html": [
       "<div>\n",
       "<style scoped>\n",
       "    .dataframe tbody tr th:only-of-type {\n",
       "        vertical-align: middle;\n",
       "    }\n",
       "\n",
       "    .dataframe tbody tr th {\n",
       "        vertical-align: top;\n",
       "    }\n",
       "\n",
       "    .dataframe thead th {\n",
       "        text-align: right;\n",
       "    }\n",
       "</style>\n",
       "<table border=\"1\" class=\"dataframe\">\n",
       "  <thead>\n",
       "    <tr style=\"text-align: right;\">\n",
       "      <th></th>\n",
       "      <th>text</th>\n",
       "      <th>len</th>\n",
       "      <th>class</th>\n",
       "    </tr>\n",
       "  </thead>\n",
       "  <tbody>\n",
       "    <tr>\n",
       "      <td>0</td>\n",
       "      <td>Лев Николаевич Толстой \\nВойна и мир.</td>\n",
       "      <td>36</td>\n",
       "      <td>original</td>\n",
       "    </tr>\n",
       "    <tr>\n",
       "      <td>1</td>\n",
       "      <td>Том 1\\n     \\n\\n     \\nЛев Николаевич Толстой\\...</td>\n",
       "      <td>122</td>\n",
       "      <td>original</td>\n",
       "    </tr>\n",
       "    <tr>\n",
       "      <td>2</td>\n",
       "      <td>Genes et Lucques ne sont plus que des apanages...</td>\n",
       "      <td>87</td>\n",
       "      <td>original</td>\n",
       "    </tr>\n",
       "    <tr>\n",
       "      <td>3</td>\n",
       "      <td>Non, je vous previens, que si vous ne me dites...</td>\n",
       "      <td>305</td>\n",
       "      <td>original</td>\n",
       "    </tr>\n",
       "    <tr>\n",
       "      <td>4</td>\n",
       "      <td>[  Ну, что, князь, Генуа и Лукка стали не боль...</td>\n",
       "      <td>83</td>\n",
       "      <td>original</td>\n",
       "    </tr>\n",
       "    <tr>\n",
       "      <td>...</td>\n",
       "      <td>...</td>\n",
       "      <td>...</td>\n",
       "      <td>...</td>\n",
       "    </tr>\n",
       "    <tr>\n",
       "      <td>31476</td>\n",
       "      <td>(сноска 10) нитями богородицы.</td>\n",
       "      <td>30</td>\n",
       "      <td>original</td>\n",
       "    </tr>\n",
       "    <tr>\n",
       "      <td>31477</td>\n",
       "      <td>(сноска 11) Вы нездоровы?</td>\n",
       "      <td>25</td>\n",
       "      <td>original</td>\n",
       "    </tr>\n",
       "    <tr>\n",
       "      <td>31478</td>\n",
       "      <td>(сноска 12) Нет.</td>\n",
       "      <td>16</td>\n",
       "      <td>original</td>\n",
       "    </tr>\n",
       "    <tr>\n",
       "      <td>31479</td>\n",
       "      <td>(сноска 13) Общественный договор.</td>\n",
       "      <td>33</td>\n",
       "      <td>original</td>\n",
       "    </tr>\n",
       "    <tr>\n",
       "      <td>31480</td>\n",
       "      <td>- Ред.</td>\n",
       "      <td>6</td>\n",
       "      <td>original</td>\n",
       "    </tr>\n",
       "  </tbody>\n",
       "</table>\n",
       "<p>31481 rows × 3 columns</p>\n",
       "</div>"
      ],
      "text/plain": [
       "                                                    text  len     class\n",
       "0                  Лев Николаевич Толстой \\nВойна и мир.   36  original\n",
       "1      Том 1\\n     \\n\\n     \\nЛев Николаевич Толстой\\...  122  original\n",
       "2      Genes et Lucques ne sont plus que des apanages...   87  original\n",
       "3      Non, je vous previens, que si vous ne me dites...  305  original\n",
       "4      [  Ну, что, князь, Генуа и Лукка стали не боль...   83  original\n",
       "...                                                  ...  ...       ...\n",
       "31476                     (сноска 10) нитями богородицы.   30  original\n",
       "31477                          (сноска 11) Вы нездоровы?   25  original\n",
       "31478                                   (сноска 12) Нет.   16  original\n",
       "31479                  (сноска 13) Общественный договор.   33  original\n",
       "31480                                             - Ред.    6  original\n",
       "\n",
       "[31481 rows x 3 columns]"
      ]
     },
     "execution_count": 191,
     "metadata": {},
     "output_type": "execute_result"
    }
   ],
   "source": [
    "original"
   ]
  },
  {
   "cell_type": "code",
   "execution_count": 69,
   "metadata": {},
   "outputs": [],
   "source": [
    "# with open('voyna-i-mir.txt', encoding='utf-8') as f:\n",
    "#     original_sentences = f.read()"
   ]
  },
  {
   "cell_type": "code",
   "execution_count": 70,
   "metadata": {},
   "outputs": [],
   "source": [
    "original_model = markovify.NewlineText(original_sentences)"
   ]
  },
  {
   "cell_type": "code",
   "execution_count": 154,
   "metadata": {},
   "outputs": [
    {
     "data": {
      "text/plain": [
       "'- II a deja tant souffert.'"
      ]
     },
     "execution_count": 154,
     "metadata": {},
     "output_type": "execute_result"
    }
   ],
   "source": [
    "original_model.make_sentence()"
   ]
  },
  {
   "cell_type": "code",
   "execution_count": 160,
   "metadata": {},
   "outputs": [
    {
     "name": "stdout",
     "output_type": "stream",
     "text": [
      "Wall time: 41.8 s\n"
     ]
    }
   ],
   "source": [
    "%%time\n",
    "\n",
    "generated = []\n",
    "for i in range(7500):\n",
    "    generated.append(original_model.make_sentence())"
   ]
  },
  {
   "cell_type": "code",
   "execution_count": 161,
   "metadata": {},
   "outputs": [],
   "source": [
    "generated = pd.DataFrame(generated)"
   ]
  },
  {
   "cell_type": "code",
   "execution_count": 162,
   "metadata": {},
   "outputs": [],
   "source": [
    "generated.rename(columns={0: 'text'}, inplace=True)"
   ]
  },
  {
   "cell_type": "code",
   "execution_count": 166,
   "metadata": {},
   "outputs": [],
   "source": [
    "generated['class'] = 'generated'"
   ]
  },
  {
   "cell_type": "code",
   "execution_count": 167,
   "metadata": {},
   "outputs": [
    {
     "data": {
      "text/html": [
       "<div>\n",
       "<style scoped>\n",
       "    .dataframe tbody tr th:only-of-type {\n",
       "        vertical-align: middle;\n",
       "    }\n",
       "\n",
       "    .dataframe tbody tr th {\n",
       "        vertical-align: top;\n",
       "    }\n",
       "\n",
       "    .dataframe thead th {\n",
       "        text-align: right;\n",
       "    }\n",
       "</style>\n",
       "<table border=\"1\" class=\"dataframe\">\n",
       "  <thead>\n",
       "    <tr style=\"text-align: right;\">\n",
       "      <th></th>\n",
       "      <th>text</th>\n",
       "      <th>class</th>\n",
       "    </tr>\n",
       "  </thead>\n",
       "  <tbody>\n",
       "    <tr>\n",
       "      <td>0</td>\n",
       "      <td>– Он помолчал, оглядываясь.</td>\n",
       "      <td>generated</td>\n",
       "    </tr>\n",
       "    <tr>\n",
       "      <td>1</td>\n",
       "      <td>Напев разрастался, переходил из одного из солд...</td>\n",
       "      <td>generated</td>\n",
       "    </tr>\n",
       "    <tr>\n",
       "      <td>2</td>\n",
       "      <td>Это был Анатоль Курагин, – сказала она, указыв...</td>\n",
       "      <td>generated</td>\n",
       "    </tr>\n",
       "    <tr>\n",
       "      <td>3</td>\n",
       "      <td>- А, Бондаренко, друг сердечный, - проговорил ...</td>\n",
       "      <td>generated</td>\n",
       "    </tr>\n",
       "    <tr>\n",
       "      <td>4</td>\n",
       "      <td>- Наташа улыбнулась и хотела выйти из общей де...</td>\n",
       "      <td>generated</td>\n",
       "    </tr>\n",
       "    <tr>\n",
       "      <td>...</td>\n",
       "      <td>...</td>\n",
       "      <td>...</td>\n",
       "    </tr>\n",
       "    <tr>\n",
       "      <td>7495</td>\n",
       "      <td>Я это могу рассказать вам ясно, потому что до ...</td>\n",
       "      <td>generated</td>\n",
       "    </tr>\n",
       "    <tr>\n",
       "      <td>7496</td>\n",
       "      <td>В противном случае мы можем сделать из этого, ...</td>\n",
       "      <td>generated</td>\n",
       "    </tr>\n",
       "    <tr>\n",
       "      <td>7497</td>\n",
       "      <td>Было уже поздно ночью, адъютанту Шнейдеру, - э...</td>\n",
       "      <td>generated</td>\n",
       "    </tr>\n",
       "    <tr>\n",
       "      <td>7498</td>\n",
       "      <td>Но для того чтобы держать поводья, странно и п...</td>\n",
       "      <td>generated</td>\n",
       "    </tr>\n",
       "    <tr>\n",
       "      <td>7499</td>\n",
       "      <td>Долохов, не отвечая на восторженный взгляд Ден...</td>\n",
       "      <td>generated</td>\n",
       "    </tr>\n",
       "  </tbody>\n",
       "</table>\n",
       "<p>7500 rows × 2 columns</p>\n",
       "</div>"
      ],
      "text/plain": [
       "                                                   text      class\n",
       "0                           – Он помолчал, оглядываясь.  generated\n",
       "1     Напев разрастался, переходил из одного из солд...  generated\n",
       "2     Это был Анатоль Курагин, – сказала она, указыв...  generated\n",
       "3     - А, Бондаренко, друг сердечный, - проговорил ...  generated\n",
       "4     - Наташа улыбнулась и хотела выйти из общей де...  generated\n",
       "...                                                 ...        ...\n",
       "7495  Я это могу рассказать вам ясно, потому что до ...  generated\n",
       "7496  В противном случае мы можем сделать из этого, ...  generated\n",
       "7497  Было уже поздно ночью, адъютанту Шнейдеру, - э...  generated\n",
       "7498  Но для того чтобы держать поводья, странно и п...  generated\n",
       "7499  Долохов, не отвечая на восторженный взгляд Ден...  generated\n",
       "\n",
       "[7500 rows x 2 columns]"
      ]
     },
     "execution_count": 167,
     "metadata": {},
     "output_type": "execute_result"
    }
   ],
   "source": [
    "generated"
   ]
  },
  {
   "cell_type": "code",
   "execution_count": 179,
   "metadata": {},
   "outputs": [],
   "source": [
    "X_train_generated, X_test_generated, y_train_generated, y_test_generated = train_test_split(\n",
    "    generated['text'], generated['class'], test_size=0.1666, random_state=42)"
   ]
  },
  {
   "cell_type": "code",
   "execution_count": 184,
   "metadata": {},
   "outputs": [
    {
     "data": {
      "text/plain": [
       "970     Все офицеры и люди и худые и добрые есть, - ск...\n",
       "6279    Пьер с большим числом гостей сидела в переднем...\n",
       "1859    К концу вечера, однако, по мере приближения к ...\n",
       "6803    Он долго не мог обдумать и знать, что он запут...\n",
       "6305    – спросила Наташа, хватая ее за руку, говоря е...\n",
       "                              ...                        \n",
       "1465    К собакам подскакали два охотника: один в яме ...\n",
       "5843    С тем наивным убеждением развеселившихся молод...\n",
       "2706    - M-lle Bourienne часто трогалась до слез, в в...\n",
       "7314    Пьер подошел ближе и ближе еще, по низам и лес...\n",
       "1321    Ну так, милое дитя мое, ты знаешь, что рано ил...\n",
       "Name: text, Length: 1250, dtype: object"
      ]
     },
     "execution_count": 184,
     "metadata": {},
     "output_type": "execute_result"
    }
   ],
   "source": [
    "X_test_generated"
   ]
  },
  {
   "cell_type": "code",
   "execution_count": 197,
   "metadata": {},
   "outputs": [],
   "source": [
    "X_train_generated, X_val_generated, y_train_generated, y_val_generated = train_test_split(\n",
    "    X_train_generated, y_train_generated, test_size=0.2, random_state=42)"
   ]
  },
  {
   "cell_type": "code",
   "execution_count": 199,
   "metadata": {},
   "outputs": [
    {
     "data": {
      "text/plain": [
       "77      Иогель в первой линии, и неожиданно восторженн...\n",
       "3827    - подумал князь Андрей; то, что делалось перед...\n",
       "3766    Взгляд его оживлялся тем больше, чем присутств...\n",
       "3598    Женитьба на богатой невесте и нежной дружбой и...\n",
       "3726    Все искусные маневры, которые предлагали генер...\n",
       "                              ...                        \n",
       "6634    Dans le cas contraire, Votre Majeste, je me me...\n",
       "2846    За ним следовала повозка, непохожая на все дру...\n",
       "33                                     - Я не жил прежде.\n",
       "3357    Благодаря такту, который выказывал князь Багра...\n",
       "4611    - Я знаю твое сердце, - повторил он несколько ...\n",
       "Name: text, Length: 1250, dtype: object"
      ]
     },
     "execution_count": 199,
     "metadata": {},
     "output_type": "execute_result"
    }
   ],
   "source": [
    "X_val_generated"
   ]
  },
  {
   "cell_type": "code",
   "execution_count": 195,
   "metadata": {},
   "outputs": [],
   "source": [
    "original_sample = original.sample(n=7500, random_state=42)"
   ]
  },
  {
   "cell_type": "code",
   "execution_count": 196,
   "metadata": {},
   "outputs": [
    {
     "data": {
      "text/html": [
       "<div>\n",
       "<style scoped>\n",
       "    .dataframe tbody tr th:only-of-type {\n",
       "        vertical-align: middle;\n",
       "    }\n",
       "\n",
       "    .dataframe tbody tr th {\n",
       "        vertical-align: top;\n",
       "    }\n",
       "\n",
       "    .dataframe thead th {\n",
       "        text-align: right;\n",
       "    }\n",
       "</style>\n",
       "<table border=\"1\" class=\"dataframe\">\n",
       "  <thead>\n",
       "    <tr style=\"text-align: right;\">\n",
       "      <th></th>\n",
       "      <th>text</th>\n",
       "      <th>len</th>\n",
       "      <th>class</th>\n",
       "    </tr>\n",
       "  </thead>\n",
       "  <tbody>\n",
       "    <tr>\n",
       "      <td>30910</td>\n",
       "      <td>Но новая история не сделала этого.</td>\n",
       "      <td>34</td>\n",
       "      <td>original</td>\n",
       "    </tr>\n",
       "    <tr>\n",
       "      <td>15499</td>\n",
       "      <td>Что ж мне делать, Соня?</td>\n",
       "      <td>23</td>\n",
       "      <td>original</td>\n",
       "    </tr>\n",
       "    <tr>\n",
       "      <td>16466</td>\n",
       "      <td>Солнце уже поднялось и весело блестело на ярко...</td>\n",
       "      <td>55</td>\n",
       "      <td>original</td>\n",
       "    </tr>\n",
       "    <tr>\n",
       "      <td>23318</td>\n",
       "      <td>Несколько секунд, пока молодой человек устанав...</td>\n",
       "      <td>90</td>\n",
       "      <td>original</td>\n",
       "    </tr>\n",
       "    <tr>\n",
       "      <td>8931</td>\n",
       "      <td>Несколько раз, в продолжение утра, княжна Марь...</td>\n",
       "      <td>112</td>\n",
       "      <td>original</td>\n",
       "    </tr>\n",
       "    <tr>\n",
       "      <td>...</td>\n",
       "      <td>...</td>\n",
       "      <td>...</td>\n",
       "      <td>...</td>\n",
       "    </tr>\n",
       "    <tr>\n",
       "      <td>11597</td>\n",
       "      <td>IV\\n     \\n     Князь Андрей приехал в Петербу...</td>\n",
       "      <td>67</td>\n",
       "      <td>original</td>\n",
       "    </tr>\n",
       "    <tr>\n",
       "      <td>25198</td>\n",
       "      <td>Это бледное, тонкое, печальное лицо, этот лучи...</td>\n",
       "      <td>202</td>\n",
       "      <td>original</td>\n",
       "    </tr>\n",
       "    <tr>\n",
       "      <td>24668</td>\n",
       "      <td>Вы лихие враги, надо признаться.</td>\n",
       "      <td>32</td>\n",
       "      <td>original</td>\n",
       "    </tr>\n",
       "    <tr>\n",
       "      <td>19306</td>\n",
       "      <td>- Княжна вдруг заплакала.</td>\n",
       "      <td>25</td>\n",
       "      <td>original</td>\n",
       "    </tr>\n",
       "    <tr>\n",
       "      <td>29390</td>\n",
       "      <td>- Мне так хорошо было нынче рассказать все; и ...</td>\n",
       "      <td>73</td>\n",
       "      <td>original</td>\n",
       "    </tr>\n",
       "  </tbody>\n",
       "</table>\n",
       "<p>7500 rows × 3 columns</p>\n",
       "</div>"
      ],
      "text/plain": [
       "                                                    text  len     class\n",
       "30910                 Но новая история не сделала этого.   34  original\n",
       "15499                            Что ж мне делать, Соня?   23  original\n",
       "16466  Солнце уже поднялось и весело блестело на ярко...   55  original\n",
       "23318  Несколько секунд, пока молодой человек устанав...   90  original\n",
       "8931   Несколько раз, в продолжение утра, княжна Марь...  112  original\n",
       "...                                                  ...  ...       ...\n",
       "11597  IV\\n     \\n     Князь Андрей приехал в Петербу...   67  original\n",
       "25198  Это бледное, тонкое, печальное лицо, этот лучи...  202  original\n",
       "24668                   Вы лихие враги, надо признаться.   32  original\n",
       "19306                          - Княжна вдруг заплакала.   25  original\n",
       "29390  - Мне так хорошо было нынче рассказать все; и ...   73  original\n",
       "\n",
       "[7500 rows x 3 columns]"
      ]
     },
     "execution_count": 196,
     "metadata": {},
     "output_type": "execute_result"
    }
   ],
   "source": [
    "original_sample"
   ]
  },
  {
   "cell_type": "code",
   "execution_count": 215,
   "metadata": {},
   "outputs": [],
   "source": [
    "X_train_original, X_test_original, y_train_original, y_test_original = train_test_split(\n",
    "    original_sample['text'], original_sample['class'], test_size=0.1666, random_state=42)"
   ]
  },
  {
   "cell_type": "code",
   "execution_count": 220,
   "metadata": {},
   "outputs": [
    {
     "data": {
      "text/plain": [
       "11256    Во фраке и круглой шляпе Николай бродил по гор...\n",
       "14767    Всё раздражение ее вдруг исчезло, и беспокойны...\n",
       "25767    И, несмотря на то, его отношения к ней - остор...\n",
       "16025    Она не улыбнулась, не кивнула ему головой, она...\n",
       "24583    [(сноска 44)] Не удалась развязка театрального...\n",
       "                               ...                        \n",
       "19382    - А вы все слушайте меня, - Ростов обратился к...\n",
       "7553                              - Так зачем же вы здесь?\n",
       "31375    То, что я в следующую минуту не поднял руки, н...\n",
       "1751                                   [  Это нам кстати.]\n",
       "1635     Самое приятное для графа занятие, за исключени...\n",
       "Name: text, Length: 1250, dtype: object"
      ]
     },
     "execution_count": 220,
     "metadata": {},
     "output_type": "execute_result"
    }
   ],
   "source": [
    "X_test_original"
   ]
  },
  {
   "cell_type": "code",
   "execution_count": 217,
   "metadata": {},
   "outputs": [],
   "source": [
    "X_train_original, X_val_original, y_train_original, y_val_original = train_test_split(\n",
    "    X_train_original, y_train_original, test_size=0.2, random_state=42)"
   ]
  },
  {
   "cell_type": "code",
   "execution_count": 218,
   "metadata": {},
   "outputs": [
    {
     "data": {
      "text/plain": [
       "11238    А ежели ты устал, пойдем в мою комнатку и ложи...\n",
       "14221                        Пелагея Даниловна улыбнулась.\n",
       "20016    - Да, а вон подальше и французы, - сказал офицер.\n",
       "12111    Борис поцеловал руку Наташи и сказал, что он у...\n",
       "4156     - Вы сказали, господин штаб-офицер, - продолжа...\n",
       "                               ...                        \n",
       "10881    Когда Ростов подъезжал к полку, он испытывал ч...\n",
       "5464     - До свидания, голубчик, - сказал Тушин, - мил...\n",
       "2240     Анна Михайловна старательно смотрела в глаза б...\n",
       "1266     Глядя на свое красивое лицо, она стала, повиди...\n",
       "2133     Это была одна из тех холодных и роскошных комн...\n",
       "Name: text, Length: 1250, dtype: object"
      ]
     },
     "execution_count": 218,
     "metadata": {},
     "output_type": "execute_result"
    }
   ],
   "source": [
    "X_val_original"
   ]
  },
  {
   "cell_type": "code",
   "execution_count": 225,
   "metadata": {},
   "outputs": [
    {
     "data": {
      "text/html": [
       "<div>\n",
       "<style scoped>\n",
       "    .dataframe tbody tr th:only-of-type {\n",
       "        vertical-align: middle;\n",
       "    }\n",
       "\n",
       "    .dataframe tbody tr th {\n",
       "        vertical-align: top;\n",
       "    }\n",
       "\n",
       "    .dataframe thead th {\n",
       "        text-align: right;\n",
       "    }\n",
       "</style>\n",
       "<table border=\"1\" class=\"dataframe\">\n",
       "  <thead>\n",
       "    <tr style=\"text-align: right;\">\n",
       "      <th></th>\n",
       "      <th>text</th>\n",
       "      <th>class</th>\n",
       "    </tr>\n",
       "  </thead>\n",
       "  <tbody>\n",
       "    <tr>\n",
       "      <td>2043</td>\n",
       "      <td>– Только с лошади-то не упадите, – прибавил он...</td>\n",
       "      <td>generated</td>\n",
       "    </tr>\n",
       "    <tr>\n",
       "      <td>4220</td>\n",
       "      <td>С моста поднялся густой дым.</td>\n",
       "      <td>original</td>\n",
       "    </tr>\n",
       "    <tr>\n",
       "      <td>6422</td>\n",
       "      <td>Нельзя было ей лечь ни на бок, ни на грудь.</td>\n",
       "      <td>original</td>\n",
       "    </tr>\n",
       "    <tr>\n",
       "      <td>11681</td>\n",
       "      <td>Всё равно как теперь, я вас спрашиваю, граф, к...</td>\n",
       "      <td>original</td>\n",
       "    </tr>\n",
       "    <tr>\n",
       "      <td>13826</td>\n",
       "      <td>еще огонь в гостиной, – сказала она, указывая ...</td>\n",
       "      <td>original</td>\n",
       "    </tr>\n",
       "    <tr>\n",
       "      <td>...</td>\n",
       "      <td>...</td>\n",
       "      <td>...</td>\n",
       "    </tr>\n",
       "    <tr>\n",
       "      <td>2331</td>\n",
       "      <td>В Орле жило несколько пленных французских офиц...</td>\n",
       "      <td>generated</td>\n",
       "    </tr>\n",
       "    <tr>\n",
       "      <td>449</td>\n",
       "      <td>Большинство присутствовавших были старые, почт...</td>\n",
       "      <td>generated</td>\n",
       "    </tr>\n",
       "    <tr>\n",
       "      <td>2958</td>\n",
       "      <td>Неприятель перестал стрелять, и он, вставая, -...</td>\n",
       "      <td>generated</td>\n",
       "    </tr>\n",
       "    <tr>\n",
       "      <td>5934</td>\n",
       "      <td>Ему было стыдно; ему казалось, что тут, подле ...</td>\n",
       "      <td>original</td>\n",
       "    </tr>\n",
       "    <tr>\n",
       "      <td>5354</td>\n",
       "      <td>- Vous vous encroыtez, mon cher, les femmes!</td>\n",
       "      <td>generated</td>\n",
       "    </tr>\n",
       "  </tbody>\n",
       "</table>\n",
       "<p>10000 rows × 2 columns</p>\n",
       "</div>"
      ],
      "text/plain": [
       "                                                    text      class\n",
       "2043   – Только с лошади-то не упадите, – прибавил он...  generated\n",
       "4220                        С моста поднялся густой дым.   original\n",
       "6422         Нельзя было ей лечь ни на бок, ни на грудь.   original\n",
       "11681  Всё равно как теперь, я вас спрашиваю, граф, к...   original\n",
       "13826  еще огонь в гостиной, – сказала она, указывая ...   original\n",
       "...                                                  ...        ...\n",
       "2331   В Орле жило несколько пленных французских офиц...  generated\n",
       "449    Большинство присутствовавших были старые, почт...  generated\n",
       "2958   Неприятель перестал стрелять, и он, вставая, -...  generated\n",
       "5934   Ему было стыдно; ему казалось, что тут, подле ...   original\n",
       "5354        - Vous vous encroыtez, mon cher, les femmes!  generated\n",
       "\n",
       "[10000 rows x 2 columns]"
      ]
     },
     "execution_count": 225,
     "metadata": {},
     "output_type": "execute_result"
    }
   ],
   "source": [
    "train_df = pd.concat(\n",
    "    (pd.concat((X_train_original, y_train_original), axis=1),\n",
    "    pd.concat((X_train_generated, y_train_generated), axis=1))\n",
    ")\n",
    "train_df = train_df.sample(frac=1, random_state=42)\n",
    "train_df"
   ]
  },
  {
   "cell_type": "code",
   "execution_count": 226,
   "metadata": {},
   "outputs": [
    {
     "data": {
      "text/html": [
       "<div>\n",
       "<style scoped>\n",
       "    .dataframe tbody tr th:only-of-type {\n",
       "        vertical-align: middle;\n",
       "    }\n",
       "\n",
       "    .dataframe tbody tr th {\n",
       "        vertical-align: top;\n",
       "    }\n",
       "\n",
       "    .dataframe thead th {\n",
       "        text-align: right;\n",
       "    }\n",
       "</style>\n",
       "<table border=\"1\" class=\"dataframe\">\n",
       "  <thead>\n",
       "    <tr style=\"text-align: right;\">\n",
       "      <th></th>\n",
       "      <th>text</th>\n",
       "      <th>class</th>\n",
       "    </tr>\n",
       "  </thead>\n",
       "  <tbody>\n",
       "    <tr>\n",
       "      <td>4789</td>\n",
       "      <td>Во время одного из них споткнулся.</td>\n",
       "      <td>generated</td>\n",
       "    </tr>\n",
       "    <tr>\n",
       "      <td>24039</td>\n",
       "      <td>- Наташа, разденься, голубушка, ложись на мою ...</td>\n",
       "      <td>original</td>\n",
       "    </tr>\n",
       "    <tr>\n",
       "      <td>3486</td>\n",
       "      <td>Невольно он испытывал волнующее радостное чувс...</td>\n",
       "      <td>original</td>\n",
       "    </tr>\n",
       "    <tr>\n",
       "      <td>6719</td>\n",
       "      <td>Нет, это не что иное, как изображение Песни пе...</td>\n",
       "      <td>generated</td>\n",
       "    </tr>\n",
       "    <tr>\n",
       "      <td>6490</td>\n",
       "      <td>Княгиня подошла к двери.</td>\n",
       "      <td>generated</td>\n",
       "    </tr>\n",
       "    <tr>\n",
       "      <td>...</td>\n",
       "      <td>...</td>\n",
       "      <td>...</td>\n",
       "    </tr>\n",
       "    <tr>\n",
       "      <td>4286</td>\n",
       "      <td>Она, сама не могла понять их; но она сказала, ...</td>\n",
       "      <td>generated</td>\n",
       "    </tr>\n",
       "    <tr>\n",
       "      <td>17452</td>\n",
       "      <td>Она ощущала в душе своей благоговейный и трепе...</td>\n",
       "      <td>original</td>\n",
       "    </tr>\n",
       "    <tr>\n",
       "      <td>25540</td>\n",
       "      <td>Но Пьер не понял его и стоял у столба, и никто...</td>\n",
       "      <td>original</td>\n",
       "    </tr>\n",
       "    <tr>\n",
       "      <td>1958</td>\n",
       "      <td>Точно ту же мысль, но одно смущало ее.</td>\n",
       "      <td>generated</td>\n",
       "    </tr>\n",
       "    <tr>\n",
       "      <td>4254</td>\n",
       "      <td>\"Однако, кажется, никто не заметил\", думал про...</td>\n",
       "      <td>original</td>\n",
       "    </tr>\n",
       "  </tbody>\n",
       "</table>\n",
       "<p>2500 rows × 2 columns</p>\n",
       "</div>"
      ],
      "text/plain": [
       "                                                    text      class\n",
       "4789                  Во время одного из них споткнулся.  generated\n",
       "24039  - Наташа, разденься, голубушка, ложись на мою ...   original\n",
       "3486   Невольно он испытывал волнующее радостное чувс...   original\n",
       "6719   Нет, это не что иное, как изображение Песни пе...  generated\n",
       "6490                            Княгиня подошла к двери.  generated\n",
       "...                                                  ...        ...\n",
       "4286   Она, сама не могла понять их; но она сказала, ...  generated\n",
       "17452  Она ощущала в душе своей благоговейный и трепе...   original\n",
       "25540  Но Пьер не понял его и стоял у столба, и никто...   original\n",
       "1958              Точно ту же мысль, но одно смущало ее.  generated\n",
       "4254   \"Однако, кажется, никто не заметил\", думал про...   original\n",
       "\n",
       "[2500 rows x 2 columns]"
      ]
     },
     "execution_count": 226,
     "metadata": {},
     "output_type": "execute_result"
    }
   ],
   "source": [
    "val_df = pd.concat(\n",
    "    (pd.concat((X_val_original, y_val_original), axis=1),\n",
    "    pd.concat((X_val_generated, y_val_generated), axis=1))\n",
    ")\n",
    "val_df = val_df.sample(frac=1, random_state=42)\n",
    "val_df"
   ]
  },
  {
   "cell_type": "code",
   "execution_count": 227,
   "metadata": {},
   "outputs": [
    {
     "data": {
      "text/html": [
       "<div>\n",
       "<style scoped>\n",
       "    .dataframe tbody tr th:only-of-type {\n",
       "        vertical-align: middle;\n",
       "    }\n",
       "\n",
       "    .dataframe tbody tr th {\n",
       "        vertical-align: top;\n",
       "    }\n",
       "\n",
       "    .dataframe thead th {\n",
       "        text-align: right;\n",
       "    }\n",
       "</style>\n",
       "<table border=\"1\" class=\"dataframe\">\n",
       "  <thead>\n",
       "    <tr style=\"text-align: right;\">\n",
       "      <th></th>\n",
       "      <th>text</th>\n",
       "      <th>class</th>\n",
       "    </tr>\n",
       "  </thead>\n",
       "  <tbody>\n",
       "    <tr>\n",
       "      <td>4622</td>\n",
       "      <td>- Врешь, врешь, - закричал он, и зачем он тепе...</td>\n",
       "      <td>generated</td>\n",
       "    </tr>\n",
       "    <tr>\n",
       "      <td>22858</td>\n",
       "      <td>Я не хочу воспользоваться счастьем войны для у...</td>\n",
       "      <td>original</td>\n",
       "    </tr>\n",
       "    <tr>\n",
       "      <td>26380</td>\n",
       "      <td>- Ах, право, поздно, - сказал граф Орлов, погл...</td>\n",
       "      <td>original</td>\n",
       "    </tr>\n",
       "    <tr>\n",
       "      <td>547</td>\n",
       "      <td>Ребенок не верит, чтобы у вас эта чернопегая –...</td>\n",
       "      <td>generated</td>\n",
       "    </tr>\n",
       "    <tr>\n",
       "      <td>7027</td>\n",
       "      <td>Кутузов опять с грустной радостью она теперь в...</td>\n",
       "      <td>generated</td>\n",
       "    </tr>\n",
       "    <tr>\n",
       "      <td>...</td>\n",
       "      <td>...</td>\n",
       "      <td>...</td>\n",
       "    </tr>\n",
       "    <tr>\n",
       "      <td>5614</td>\n",
       "      <td>Нам толкуют о правах женщин, об отношениях суп...</td>\n",
       "      <td>generated</td>\n",
       "    </tr>\n",
       "    <tr>\n",
       "      <td>5070</td>\n",
       "      <td>Князь Андрей, запихавшись от быстроты езды, го...</td>\n",
       "      <td>original</td>\n",
       "    </tr>\n",
       "    <tr>\n",
       "      <td>24218</td>\n",
       "      <td>- Вы?</td>\n",
       "      <td>original</td>\n",
       "    </tr>\n",
       "    <tr>\n",
       "      <td>1726</td>\n",
       "      <td>Он рассказывал то, что я ему такой обед задал…...</td>\n",
       "      <td>generated</td>\n",
       "    </tr>\n",
       "    <tr>\n",
       "      <td>6379</td>\n",
       "      <td>M-lle Bourienne давно ждала того русского княз...</td>\n",
       "      <td>original</td>\n",
       "    </tr>\n",
       "  </tbody>\n",
       "</table>\n",
       "<p>2500 rows × 2 columns</p>\n",
       "</div>"
      ],
      "text/plain": [
       "                                                    text      class\n",
       "4622   - Врешь, врешь, - закричал он, и зачем он тепе...  generated\n",
       "22858  Я не хочу воспользоваться счастьем войны для у...   original\n",
       "26380  - Ах, право, поздно, - сказал граф Орлов, погл...   original\n",
       "547    Ребенок не верит, чтобы у вас эта чернопегая –...  generated\n",
       "7027   Кутузов опять с грустной радостью она теперь в...  generated\n",
       "...                                                  ...        ...\n",
       "5614   Нам толкуют о правах женщин, об отношениях суп...  generated\n",
       "5070   Князь Андрей, запихавшись от быстроты езды, го...   original\n",
       "24218                                              - Вы?   original\n",
       "1726   Он рассказывал то, что я ему такой обед задал…...  generated\n",
       "6379   M-lle Bourienne давно ждала того русского княз...   original\n",
       "\n",
       "[2500 rows x 2 columns]"
      ]
     },
     "execution_count": 227,
     "metadata": {},
     "output_type": "execute_result"
    }
   ],
   "source": [
    "test_df = pd.concat(\n",
    "    (pd.concat((X_test_original, y_test_original), axis=1),\n",
    "    pd.concat((X_test_generated, y_test_generated), axis=1))\n",
    ")\n",
    "test_df = test_df.sample(frac=1, random_state=42)\n",
    "test_df"
   ]
  },
  {
   "cell_type": "code",
   "execution_count": 228,
   "metadata": {},
   "outputs": [],
   "source": [
    "X_train = train_df['text']\n",
    "y_train = train_df['class']\n",
    "X_val = val_df['text']\n",
    "y_val = val_df['class']\n",
    "X_test = test_df['text']\n",
    "y_test = test_df['class']"
   ]
  },
  {
   "cell_type": "code",
   "execution_count": 260,
   "metadata": {},
   "outputs": [
    {
     "name": "stderr",
     "output_type": "stream",
     "text": [
      "c:\\program files\\python37\\lib\\site-packages\\sklearn\\feature_extraction\\text.py:300: UserWarning: Your stop_words may be inconsistent with your preprocessing. Tokenizing the stop words generated tokens ['``'] not in stop_words.\n",
      "  'stop_words.' % sorted(inconsistent))\n"
     ]
    },
    {
     "name": "stdout",
     "output_type": "stream",
     "text": [
      "Wall time: 1.63 s\n"
     ]
    },
    {
     "name": "stderr",
     "output_type": "stream",
     "text": [
      "c:\\program files\\python37\\lib\\site-packages\\sklearn\\linear_model\\logistic.py:432: FutureWarning: Default solver will be changed to 'lbfgs' in 0.22. Specify a solver to silence this warning.\n",
      "  FutureWarning)\n"
     ]
    },
    {
     "data": {
      "text/plain": [
       "Pipeline(memory=None,\n",
       "         steps=[('vectorizer',\n",
       "                 TfidfVectorizer(analyzer='word', binary=False,\n",
       "                                 decode_error='strict',\n",
       "                                 dtype=<class 'numpy.float64'>,\n",
       "                                 encoding='utf-8', input='content',\n",
       "                                 lowercase=True, max_df=1.0, max_features=None,\n",
       "                                 min_df=1, ngram_range=(2, 3), norm='l2',\n",
       "                                 preprocessor=None, smooth_idf=True,\n",
       "                                 stop_words=['и', 'в', 'во', 'не', 'что', 'он',\n",
       "                                             'на', 'я', 'с', 'со', 'как'...\n",
       "                                 token_pattern='(?u)\\\\b\\\\w\\\\w+\\\\b',\n",
       "                                 tokenizer=<function word_tokenize at 0x0000027630F43158>,\n",
       "                                 use_idf=True, vocabulary=None)),\n",
       "                ('logistic',\n",
       "                 LogisticRegression(C=1.0, class_weight=None, dual=False,\n",
       "                                    fit_intercept=True, intercept_scaling=1,\n",
       "                                    l1_ratio=None, max_iter=100,\n",
       "                                    multi_class='warn', n_jobs=None,\n",
       "                                    penalty='l2', random_state=None,\n",
       "                                    solver='warn', tol=0.0001, verbose=0,\n",
       "                                    warm_start=False))],\n",
       "         verbose=False)"
      ]
     },
     "execution_count": 260,
     "metadata": {},
     "output_type": "execute_result"
    }
   ],
   "source": [
    "%%time\n",
    "\n",
    "pipe = Pipeline([('vectorizer', \n",
    "                TfidfVectorizer(ngram_range=(2, 3), tokenizer=word_tokenize, stop_words=STOPWORDS)), \n",
    "               ('logistic',\n",
    "                LogisticRegression()\n",
    "                )\n",
    "              ])\n",
    "\n",
    "# grid = GridSearchCV(\n",
    "#     pipe,\n",
    "#     param_grid={\n",
    "#         'logistic__C': np.logspace(-3, 1, 5),\n",
    "#         'logistic__penalty': ['l1', 'l2']\n",
    "#     }\n",
    "# )\n",
    "# grid.fit(X_train, y_train)\n",
    "\n",
    "pipe.fit(X_train, y_train)"
   ]
  },
  {
   "cell_type": "code",
   "execution_count": 255,
   "metadata": {},
   "outputs": [
    {
     "name": "stdout",
     "output_type": "stream",
     "text": [
      "2-3-Ngrams, punctuation included\n",
      "Accuracy on train: 0.9884\n",
      "Accuracy on test: 0.5376\n"
     ]
    }
   ],
   "source": [
    "print('2-3-grams, punctuation included')\n",
    "print(f'Accuracy on train: {accuracy_score(y_train, pipe.predict(X_train))}')\n",
    "print(f'Accuracy on test: {accuracy_score(y_test, pipe.predict(X_test))}')"
   ]
  },
  {
   "cell_type": "code",
   "execution_count": 267,
   "metadata": {},
   "outputs": [
    {
     "name": "stdout",
     "output_type": "stream",
     "text": [
      "2-3-Ngrams, punctuation excluded\n",
      "Accuracy on train: 0.9869\n",
      "Accuracy on test: 0.5092\n"
     ]
    }
   ],
   "source": [
    "print('2-3-grams, punctuation excluded')\n",
    "print(f'Accuracy on train: {accuracy_score(y_train, pipe.predict(X_train))}')\n",
    "print(f'Accuracy on test: {accuracy_score(y_test, pipe.predict(X_val))}')"
   ]
  },
  {
   "cell_type": "code",
   "execution_count": 354,
   "metadata": {},
   "outputs": [
    {
     "name": "stdout",
     "output_type": "stream",
     "text": [
      "Wall time: 286 ms\n"
     ]
    },
    {
     "name": "stderr",
     "output_type": "stream",
     "text": [
      "c:\\program files\\python37\\lib\\site-packages\\sklearn\\linear_model\\logistic.py:432: FutureWarning: Default solver will be changed to 'lbfgs' in 0.22. Specify a solver to silence this warning.\n",
      "  FutureWarning)\n"
     ]
    },
    {
     "data": {
      "text/plain": [
       "Pipeline(memory=None,\n",
       "         steps=[('vectorizer',\n",
       "                 TfidfVectorizer(analyzer='char', binary=False,\n",
       "                                 decode_error='strict',\n",
       "                                 dtype=<class 'numpy.float64'>,\n",
       "                                 encoding='utf-8', input='content',\n",
       "                                 lowercase=True, max_df=1.0, max_features=None,\n",
       "                                 min_df=1, ngram_range=(1, 1), norm='l2',\n",
       "                                 preprocessor=None, smooth_idf=True,\n",
       "                                 stop_words=None, strip_accents=None,\n",
       "                                 sublinear_tf=False,\n",
       "                                 token_pattern='(?u)\\\\b\\\\w\\\\w+\\\\b',\n",
       "                                 tokenizer=None, use_idf=True,\n",
       "                                 vocabulary=None)),\n",
       "                ('logistic',\n",
       "                 LogisticRegression(C=1, class_weight=None, dual=False,\n",
       "                                    fit_intercept=True, intercept_scaling=1,\n",
       "                                    l1_ratio=None, max_iter=100,\n",
       "                                    multi_class='warn', n_jobs=None,\n",
       "                                    penalty='l2', random_state=None,\n",
       "                                    solver='warn', tol=0.0001, verbose=0,\n",
       "                                    warm_start=False))],\n",
       "         verbose=False)"
      ]
     },
     "execution_count": 354,
     "metadata": {},
     "output_type": "execute_result"
    }
   ],
   "source": [
    "%%time\n",
    "\n",
    "pipe = Pipeline([('vectorizer', \n",
    "                TfidfVectorizer(analyzer='char', ngram_range=(1, 1))), \n",
    "               ('logistic',\n",
    "                LogisticRegression(C=1)\n",
    "                )\n",
    "              ])\n",
    "\n",
    "# grid = GridSearchCV(\n",
    "#     pipe,\n",
    "#     param_grid={\n",
    "#         'logistic__C': np.logspace(-3, 1, 5),\n",
    "#         'logistic__penalty': ['l1', 'l2']\n",
    "#     }\n",
    "# )\n",
    "# grid.fit(X_train, y_train)\n",
    "\n",
    "pipe.fit(X_train, y_train)"
   ]
  },
  {
   "cell_type": "code",
   "execution_count": 355,
   "metadata": {},
   "outputs": [
    {
     "name": "stdout",
     "output_type": "stream",
     "text": [
      "Character 1-grams\n",
      "Accuracy on train: 0.6405\n",
      "Accuracy on test: 0.6348\n"
     ]
    }
   ],
   "source": [
    "print('Character 1-grams')\n",
    "print(f'Accuracy on train: {accuracy_score(y_train, pipe.predict(X_train))}')\n",
    "print(f'Accuracy on test: {accuracy_score(y_val, pipe.predict(X_val))}')"
   ]
  },
  {
   "cell_type": "code",
   "execution_count": 430,
   "metadata": {},
   "outputs": [
    {
     "name": "stdout",
     "output_type": "stream",
     "text": [
      "Wall time: 1.81 s\n"
     ]
    },
    {
     "data": {
      "text/plain": [
       "Pipeline(memory=None,\n",
       "         steps=[('vectorizer',\n",
       "                 TfidfVectorizer(analyzer='word', binary=False,\n",
       "                                 decode_error='strict',\n",
       "                                 dtype=<class 'numpy.float64'>,\n",
       "                                 encoding='utf-8', input='content',\n",
       "                                 lowercase=True, max_df=1.0, max_features=None,\n",
       "                                 min_df=1, ngram_range=(2, 3), norm='l2',\n",
       "                                 preprocessor=None, smooth_idf=True,\n",
       "                                 stop_words=['и', 'в', 'во', 'не', 'что', 'он',\n",
       "                                             'на', 'я', 'с', 'со', 'как'...\n",
       "                                 strip_accents=None, sublinear_tf=False,\n",
       "                                 token_pattern='(?u)\\\\b\\\\w\\\\w+\\\\b',\n",
       "                                 tokenizer=<function word_tokenize at 0x0000027630F43158>,\n",
       "                                 use_idf=True, vocabulary=None)),\n",
       "                ('SVM',\n",
       "                 LinearSVC(C=1.0, class_weight=None, dual=True,\n",
       "                           fit_intercept=True, intercept_scaling=1,\n",
       "                           loss='squared_hinge', max_iter=1000,\n",
       "                           multi_class='ovr', penalty='l2', random_state=None,\n",
       "                           tol=0.0001, verbose=0))],\n",
       "         verbose=False)"
      ]
     },
     "execution_count": 430,
     "metadata": {},
     "output_type": "execute_result"
    }
   ],
   "source": [
    "%%time\n",
    "\n",
    "pipe = Pipeline([('vectorizer', \n",
    "                TfidfVectorizer(ngram_range=(2, 3), tokenizer=word_tokenize, stop_words=STOPWORDS)), \n",
    "               ('SVM',\n",
    "                LinearSVC()\n",
    "                )\n",
    "              ])\n",
    "\n",
    "# grid = GridSearchCV(\n",
    "#     pipe,\n",
    "#     param_grid={\n",
    "#         'logistic__C': np.logspace(-3, 1, 5),\n",
    "#         'logistic__penalty': ['l1', 'l2']\n",
    "#     }\n",
    "# )\n",
    "# grid.fit(X_train, y_train)\n",
    "\n",
    "pipe.fit(X_train, y_train)"
   ]
  },
  {
   "cell_type": "code",
   "execution_count": 308,
   "metadata": {},
   "outputs": [
    {
     "name": "stdout",
     "output_type": "stream",
     "text": [
      "2-3-grams, punctuation included\n",
      "Accuracy on train: 0.9973\n",
      "Accuracy on test: 0.5264\n"
     ]
    }
   ],
   "source": [
    "print('2-3-grams, punctuation included')\n",
    "print(f'Accuracy on train: {accuracy_score(y_train, pipe.predict(X_train))}')\n",
    "print(f'Accuracy on test: {accuracy_score(y_test, pipe.predict(X_test))}')"
   ]
  },
  {
   "cell_type": "code",
   "execution_count": 345,
   "metadata": {},
   "outputs": [
    {
     "name": "stderr",
     "output_type": "stream",
     "text": [
      "c:\\program files\\python37\\lib\\site-packages\\sklearn\\model_selection\\_split.py:1978: FutureWarning: The default value of cv will change from 3 to 5 in version 0.22. Specify it explicitly to silence this warning.\n",
      "  warnings.warn(CV_WARNING, FutureWarning)\n"
     ]
    },
    {
     "name": "stdout",
     "output_type": "stream",
     "text": [
      "Wall time: 1min 18s\n"
     ]
    },
    {
     "data": {
      "text/plain": [
       "GridSearchCV(cv='warn', error_score='raise-deprecating',\n",
       "             estimator=Pipeline(memory=None,\n",
       "                                steps=[('vectorizer',\n",
       "                                        TfidfVectorizer(analyzer='char',\n",
       "                                                        binary=False,\n",
       "                                                        decode_error='strict',\n",
       "                                                        dtype=<class 'numpy.float64'>,\n",
       "                                                        encoding='utf-8',\n",
       "                                                        input='content',\n",
       "                                                        lowercase=True,\n",
       "                                                        max_df=1.0,\n",
       "                                                        max_features=None,\n",
       "                                                        min_df=1,\n",
       "                                                        ngram_range=(),\n",
       "                                                        norm='l2',\n",
       "                                                        preprocessor=None,\n",
       "                                                        smooth_idf=True,\n",
       "                                                        st...\n",
       "                                                  dual=True, fit_intercept=True,\n",
       "                                                  intercept_scaling=1,\n",
       "                                                  loss='squared_hinge',\n",
       "                                                  max_iter=1000,\n",
       "                                                  multi_class='ovr',\n",
       "                                                  penalty='l2',\n",
       "                                                  random_state=None, tol=0.0001,\n",
       "                                                  verbose=0))],\n",
       "                                verbose=False),\n",
       "             iid='warn', n_jobs=None,\n",
       "             param_grid={'vectorizer__ngram_range': ((1, 1), (1, 3), (1, 5),\n",
       "                                                     (2, 3), (2, 5), (3, 5),\n",
       "                                                     (3, 7), (5, 7), (5, 10))},\n",
       "             pre_dispatch='2*n_jobs', refit=True, return_train_score=False,\n",
       "             scoring=None, verbose=0)"
      ]
     },
     "execution_count": 345,
     "metadata": {},
     "output_type": "execute_result"
    }
   ],
   "source": [
    "%%time\n",
    "\n",
    "pipe = Pipeline([('vectorizer', \n",
    "                TfidfVectorizer(analyzer='char', ngram_range=())), \n",
    "               ('SVM',\n",
    "                LinearSVC(C=0.1)\n",
    "                )\n",
    "              ])\n",
    "\n",
    "grid = GridSearchCV(\n",
    "    pipe,\n",
    "    param_grid={\n",
    "#         'SVM__C': np.logspace(-3, 1, 5),\n",
    "        'vectorizer__ngram_range': ((1, 1), (1, 3), (1, 5), (2, 3), (2, 5), (3, 5), (3, 7), (5, 7), (5, 10))\n",
    "    }\n",
    ")\n",
    "\n",
    "# pipe.fit(X_train, y_train)\n",
    "grid.fit(X_train, y_train)"
   ]
  },
  {
   "cell_type": "code",
   "execution_count": 347,
   "metadata": {},
   "outputs": [
    {
     "data": {
      "text/plain": [
       "{'vectorizer__ngram_range': (1, 1)}"
      ]
     },
     "execution_count": 347,
     "metadata": {},
     "output_type": "execute_result"
    }
   ],
   "source": [
    "grid.best_params_"
   ]
  },
  {
   "cell_type": "code",
   "execution_count": 375,
   "metadata": {},
   "outputs": [
    {
     "name": "stdout",
     "output_type": "stream",
     "text": [
      "1-grams, punctuation included\n",
      "Accuracy on train: 0.6409\n",
      "Accuracy on validation: 0.6332\n"
     ]
    }
   ],
   "source": [
    "print('1-grams, punctuation included')\n",
    "print(f'Accuracy on train: {accuracy_score(y_train, grid.predict(X_train))}')\n",
    "print(f'Accuracy on validation: {accuracy_score(y_val, grid.predict(X_val))}')"
   ]
  },
  {
   "cell_type": "code",
   "execution_count": 428,
   "metadata": {},
   "outputs": [
    {
     "name": "stdout",
     "output_type": "stream",
     "text": [
      "Accuracy on test: 0.6484\n"
     ]
    }
   ],
   "source": [
    "print(f'Accuracy on test: {accuracy_score(y_test, grid.predict(X_test))}')"
   ]
  },
  {
   "cell_type": "code",
   "execution_count": 479,
   "metadata": {},
   "outputs": [
    {
     "name": "stdout",
     "output_type": "stream",
     "text": [
      "              precision    recall  f1-score   support\n",
      "\n",
      "   generated       0.61      0.80      0.69      1250\n",
      "    original       0.71      0.50      0.59      1250\n",
      "\n",
      "    accuracy                           0.65      2500\n",
      "   macro avg       0.66      0.65      0.64      2500\n",
      "weighted avg       0.66      0.65      0.64      2500\n",
      "\n"
     ]
    }
   ],
   "source": [
    "print(classification_report(y_test, grid.predict(X_test)))"
   ]
  },
  {
   "cell_type": "code",
   "execution_count": 387,
   "metadata": {},
   "outputs": [],
   "source": [
    "original_model_3 = markovify.NewlineText(original_sentences, state_size=3)"
   ]
  },
  {
   "cell_type": "code",
   "execution_count": 419,
   "metadata": {},
   "outputs": [
    {
     "name": "stdout",
     "output_type": "stream",
     "text": [
      "Wall time: 13.2 s\n"
     ]
    }
   ],
   "source": [
    "%%time\n",
    "\n",
    "X_test_generated_3 = []\n",
    "for i in range(1250):\n",
    "    X_test_generated_3.append(original_model_3.make_sentence(tries=100))"
   ]
  },
  {
   "cell_type": "code",
   "execution_count": 420,
   "metadata": {},
   "outputs": [],
   "source": [
    "X_test_generated_3 = pd.DataFrame(X_test_3, columns=['text'])"
   ]
  },
  {
   "cell_type": "code",
   "execution_count": 421,
   "metadata": {},
   "outputs": [
    {
     "data": {
      "text/plain": [
       "False    1250\n",
       "Name: text, dtype: int64"
      ]
     },
     "execution_count": 421,
     "metadata": {},
     "output_type": "execute_result"
    }
   ],
   "source": [
    "X_test_generated_3['text'].isna().value_counts()"
   ]
  },
  {
   "cell_type": "code",
   "execution_count": 422,
   "metadata": {},
   "outputs": [],
   "source": [
    "X_test_generated_3['class'] = 'generated'"
   ]
  },
  {
   "cell_type": "code",
   "execution_count": 423,
   "metadata": {},
   "outputs": [
    {
     "data": {
      "text/html": [
       "<div>\n",
       "<style scoped>\n",
       "    .dataframe tbody tr th:only-of-type {\n",
       "        vertical-align: middle;\n",
       "    }\n",
       "\n",
       "    .dataframe tbody tr th {\n",
       "        vertical-align: top;\n",
       "    }\n",
       "\n",
       "    .dataframe thead th {\n",
       "        text-align: right;\n",
       "    }\n",
       "</style>\n",
       "<table border=\"1\" class=\"dataframe\">\n",
       "  <thead>\n",
       "    <tr style=\"text-align: right;\">\n",
       "      <th></th>\n",
       "      <th>text</th>\n",
       "      <th>class</th>\n",
       "    </tr>\n",
       "  </thead>\n",
       "  <tbody>\n",
       "    <tr>\n",
       "      <td>0</td>\n",
       "      <td>Оттого ли, что тяготеет к земле, оттого ли, чт...</td>\n",
       "      <td>generated</td>\n",
       "    </tr>\n",
       "    <tr>\n",
       "      <td>1</td>\n",
       "      <td>Князь Андрей видел уже ясно растерянное и вмес...</td>\n",
       "      <td>generated</td>\n",
       "    </tr>\n",
       "    <tr>\n",
       "      <td>2</td>\n",
       "      <td>Но глаза их, встретившись, сказали друг другу ...</td>\n",
       "      <td>generated</td>\n",
       "    </tr>\n",
       "    <tr>\n",
       "      <td>3</td>\n",
       "      <td>Императрица же Елизавета Алексеевна на вопрос ...</td>\n",
       "      <td>generated</td>\n",
       "    </tr>\n",
       "    <tr>\n",
       "      <td>4</td>\n",
       "      <td>Но в последнее время, к недоуменью и удивлению...</td>\n",
       "      <td>generated</td>\n",
       "    </tr>\n",
       "    <tr>\n",
       "      <td>...</td>\n",
       "      <td>...</td>\n",
       "      <td>...</td>\n",
       "    </tr>\n",
       "    <tr>\n",
       "      <td>1245</td>\n",
       "      <td>Ростов с Ильиным в последний раз потешить девчат.</td>\n",
       "      <td>generated</td>\n",
       "    </tr>\n",
       "    <tr>\n",
       "      <td>1246</td>\n",
       "      <td>– Знаю, верно про него думала, – сказал Никола...</td>\n",
       "      <td>generated</td>\n",
       "    </tr>\n",
       "    <tr>\n",
       "      <td>1247</td>\n",
       "      <td>Охота пошла дальше, так как было слишком очеви...</td>\n",
       "      <td>generated</td>\n",
       "    </tr>\n",
       "    <tr>\n",
       "      <td>1248</td>\n",
       "      <td>На лице его было что-то наивно-праздничное, да...</td>\n",
       "      <td>generated</td>\n",
       "    </tr>\n",
       "    <tr>\n",
       "      <td>1249</td>\n",
       "      <td>- Идите, Annette, вы простудитесь, - говорила ...</td>\n",
       "      <td>generated</td>\n",
       "    </tr>\n",
       "  </tbody>\n",
       "</table>\n",
       "<p>1250 rows × 2 columns</p>\n",
       "</div>"
      ],
      "text/plain": [
       "                                                   text      class\n",
       "0     Оттого ли, что тяготеет к земле, оттого ли, чт...  generated\n",
       "1     Князь Андрей видел уже ясно растерянное и вмес...  generated\n",
       "2     Но глаза их, встретившись, сказали друг другу ...  generated\n",
       "3     Императрица же Елизавета Алексеевна на вопрос ...  generated\n",
       "4     Но в последнее время, к недоуменью и удивлению...  generated\n",
       "...                                                 ...        ...\n",
       "1245  Ростов с Ильиным в последний раз потешить девчат.  generated\n",
       "1246  – Знаю, верно про него думала, – сказал Никола...  generated\n",
       "1247  Охота пошла дальше, так как было слишком очеви...  generated\n",
       "1248  На лице его было что-то наивно-праздничное, да...  generated\n",
       "1249  - Идите, Annette, вы простудитесь, - говорила ...  generated\n",
       "\n",
       "[1250 rows x 2 columns]"
      ]
     },
     "execution_count": 423,
     "metadata": {},
     "output_type": "execute_result"
    }
   ],
   "source": [
    "X_test_generated_3"
   ]
  },
  {
   "cell_type": "code",
   "execution_count": 474,
   "metadata": {},
   "outputs": [],
   "source": [
    "X = X_test_generated_3['text']\n",
    "y = X_test_generated_3['class']"
   ]
  },
  {
   "cell_type": "code",
   "execution_count": 424,
   "metadata": {},
   "outputs": [
    {
     "data": {
      "text/html": [
       "<div>\n",
       "<style scoped>\n",
       "    .dataframe tbody tr th:only-of-type {\n",
       "        vertical-align: middle;\n",
       "    }\n",
       "\n",
       "    .dataframe tbody tr th {\n",
       "        vertical-align: top;\n",
       "    }\n",
       "\n",
       "    .dataframe thead th {\n",
       "        text-align: right;\n",
       "    }\n",
       "</style>\n",
       "<table border=\"1\" class=\"dataframe\">\n",
       "  <thead>\n",
       "    <tr style=\"text-align: right;\">\n",
       "      <th></th>\n",
       "      <th>text</th>\n",
       "      <th>class</th>\n",
       "    </tr>\n",
       "  </thead>\n",
       "  <tbody>\n",
       "    <tr>\n",
       "      <td>197</td>\n",
       "      <td>Волков этих что, говорит... - Та страженья был...</td>\n",
       "      <td>generated</td>\n",
       "    </tr>\n",
       "    <tr>\n",
       "      <td>22858</td>\n",
       "      <td>Я не хочу воспользоваться счастьем войны для у...</td>\n",
       "      <td>original</td>\n",
       "    </tr>\n",
       "    <tr>\n",
       "      <td>26380</td>\n",
       "      <td>- Ах, право, поздно, - сказал граф Орлов, погл...</td>\n",
       "      <td>original</td>\n",
       "    </tr>\n",
       "    <tr>\n",
       "      <td>1037</td>\n",
       "      <td>Я полагаю, что в том положении, в котором Рост...</td>\n",
       "      <td>generated</td>\n",
       "    </tr>\n",
       "    <tr>\n",
       "      <td>287</td>\n",
       "      <td>Подъезжая к Смоленску, он слышал дальние выстр...</td>\n",
       "      <td>generated</td>\n",
       "    </tr>\n",
       "    <tr>\n",
       "      <td>...</td>\n",
       "      <td>...</td>\n",
       "      <td>...</td>\n",
       "    </tr>\n",
       "    <tr>\n",
       "      <td>388</td>\n",
       "      <td>- Что это, мой друг, я боюсь, что не влезу на ...</td>\n",
       "      <td>generated</td>\n",
       "    </tr>\n",
       "    <tr>\n",
       "      <td>5070</td>\n",
       "      <td>Князь Андрей, запихавшись от быстроты езды, го...</td>\n",
       "      <td>original</td>\n",
       "    </tr>\n",
       "    <tr>\n",
       "      <td>24218</td>\n",
       "      <td>- Вы?</td>\n",
       "      <td>original</td>\n",
       "    </tr>\n",
       "    <tr>\n",
       "      <td>44</td>\n",
       "      <td>Угрелась, сукина дочь, - сказал он, вставая и ...</td>\n",
       "      <td>generated</td>\n",
       "    </tr>\n",
       "    <tr>\n",
       "      <td>6379</td>\n",
       "      <td>M-lle Bourienne давно ждала того русского княз...</td>\n",
       "      <td>original</td>\n",
       "    </tr>\n",
       "  </tbody>\n",
       "</table>\n",
       "<p>2500 rows × 2 columns</p>\n",
       "</div>"
      ],
      "text/plain": [
       "                                                    text      class\n",
       "197    Волков этих что, говорит... - Та страженья был...  generated\n",
       "22858  Я не хочу воспользоваться счастьем войны для у...   original\n",
       "26380  - Ах, право, поздно, - сказал граф Орлов, погл...   original\n",
       "1037   Я полагаю, что в том положении, в котором Рост...  generated\n",
       "287    Подъезжая к Смоленску, он слышал дальние выстр...  generated\n",
       "...                                                  ...        ...\n",
       "388    - Что это, мой друг, я боюсь, что не влезу на ...  generated\n",
       "5070   Князь Андрей, запихавшись от быстроты езды, го...   original\n",
       "24218                                              - Вы?   original\n",
       "44     Угрелась, сукина дочь, - сказал он, вставая и ...  generated\n",
       "6379   M-lle Bourienne давно ждала того русского княз...   original\n",
       "\n",
       "[2500 rows x 2 columns]"
      ]
     },
     "execution_count": 424,
     "metadata": {},
     "output_type": "execute_result"
    }
   ],
   "source": [
    "test_3_df = pd.concat(\n",
    "    (pd.concat((X_test_original, y_test_original), axis=1),\n",
    "    X_test_generated_3)\n",
    ")\n",
    "test_3_df = test_3_df.sample(frac=1, random_state=42)\n",
    "test_3_df"
   ]
  },
  {
   "cell_type": "code",
   "execution_count": 425,
   "metadata": {},
   "outputs": [],
   "source": [
    "X_test_3 = test_3_df['text']\n",
    "y_test_3 = test_3_df['class']"
   ]
  },
  {
   "cell_type": "code",
   "execution_count": 478,
   "metadata": {},
   "outputs": [
    {
     "name": "stdout",
     "output_type": "stream",
     "text": [
      "              precision    recall  f1-score   support\n",
      "\n",
      "   generated       0.64      0.90      0.75      1250\n",
      "    original       0.83      0.50      0.63      1250\n",
      "\n",
      "    accuracy                           0.70      2500\n",
      "   macro avg       0.74      0.70      0.69      2500\n",
      "weighted avg       0.74      0.70      0.69      2500\n",
      "\n"
     ]
    }
   ],
   "source": [
    "print(classification_report(y_test_3, grid.predict(X_test_3)))"
   ]
  },
  {
   "cell_type": "code",
   "execution_count": 457,
   "metadata": {},
   "outputs": [],
   "source": [
    "original_model_1 = markovify.NewlineText(original_sentences, state_size=1)"
   ]
  },
  {
   "cell_type": "code",
   "execution_count": 464,
   "metadata": {},
   "outputs": [
    {
     "name": "stdout",
     "output_type": "stream",
     "text": [
      "Wall time: 12.1 s\n"
     ]
    }
   ],
   "source": [
    "%%time\n",
    "\n",
    "X_test_generated_1 = []\n",
    "for i in range(1250):\n",
    "    X_test_generated_1.append(original_model_1.make_sentence(tries=100))"
   ]
  },
  {
   "cell_type": "code",
   "execution_count": 465,
   "metadata": {},
   "outputs": [],
   "source": [
    "X_test_generated_1 = pd.DataFrame(X_test_generated_1, columns=['text'])"
   ]
  },
  {
   "cell_type": "code",
   "execution_count": 466,
   "metadata": {},
   "outputs": [
    {
     "data": {
      "text/plain": [
       "False    1250\n",
       "Name: text, dtype: int64"
      ]
     },
     "execution_count": 466,
     "metadata": {},
     "output_type": "execute_result"
    }
   ],
   "source": [
    "X_test_generated_1['text'].isna().value_counts()"
   ]
  },
  {
   "cell_type": "code",
   "execution_count": 467,
   "metadata": {},
   "outputs": [],
   "source": [
    "X_test_generated_1['class'] = 'generated'"
   ]
  },
  {
   "cell_type": "code",
   "execution_count": 468,
   "metadata": {},
   "outputs": [
    {
     "data": {
      "text/html": [
       "<div>\n",
       "<style scoped>\n",
       "    .dataframe tbody tr th:only-of-type {\n",
       "        vertical-align: middle;\n",
       "    }\n",
       "\n",
       "    .dataframe tbody tr th {\n",
       "        vertical-align: top;\n",
       "    }\n",
       "\n",
       "    .dataframe thead th {\n",
       "        text-align: right;\n",
       "    }\n",
       "</style>\n",
       "<table border=\"1\" class=\"dataframe\">\n",
       "  <thead>\n",
       "    <tr style=\"text-align: right;\">\n",
       "      <th></th>\n",
       "      <th>text</th>\n",
       "      <th>class</th>\n",
       "    </tr>\n",
       "  </thead>\n",
       "  <tbody>\n",
       "    <tr>\n",
       "      <td>0</td>\n",
       "      <td>Как потом подвели к каторжной работе.</td>\n",
       "      <td>generated</td>\n",
       "    </tr>\n",
       "    <tr>\n",
       "      <td>1</td>\n",
       "      <td>В лице этого в которой он человек, но так мне ...</td>\n",
       "      <td>generated</td>\n",
       "    </tr>\n",
       "    <tr>\n",
       "      <td>2</td>\n",
       "      <td>– Ну, видишь?</td>\n",
       "      <td>generated</td>\n",
       "    </tr>\n",
       "    <tr>\n",
       "      <td>3</td>\n",
       "      <td>Анна Михайловна с каждым его страшным усилием,...</td>\n",
       "      <td>generated</td>\n",
       "    </tr>\n",
       "    <tr>\n",
       "      <td>4</td>\n",
       "      <td>Пьер почувствовав, что князь Андрей для вас, н...</td>\n",
       "      <td>generated</td>\n",
       "    </tr>\n",
       "    <tr>\n",
       "      <td>...</td>\n",
       "      <td>...</td>\n",
       "      <td>...</td>\n",
       "    </tr>\n",
       "    <tr>\n",
       "      <td>1245</td>\n",
       "      <td>Ах, Мари, как бы ему утешение, и будет.</td>\n",
       "      <td>generated</td>\n",
       "    </tr>\n",
       "    <tr>\n",
       "      <td>1246</td>\n",
       "      <td>Она позволила себе подобных, точно так важно, ...</td>\n",
       "      <td>generated</td>\n",
       "    </tr>\n",
       "    <tr>\n",
       "      <td>1247</td>\n",
       "      <td>- А папа держит под гору и стали слаживаться, ...</td>\n",
       "      <td>generated</td>\n",
       "    </tr>\n",
       "    <tr>\n",
       "      <td>1248</td>\n",
       "      <td>Кроме того, что это не выказавший человеческог...</td>\n",
       "      <td>generated</td>\n",
       "    </tr>\n",
       "    <tr>\n",
       "      <td>1249</td>\n",
       "      <td>Мы хотим обезьянничать глупым довольством в св...</td>\n",
       "      <td>generated</td>\n",
       "    </tr>\n",
       "  </tbody>\n",
       "</table>\n",
       "<p>1250 rows × 2 columns</p>\n",
       "</div>"
      ],
      "text/plain": [
       "                                                   text      class\n",
       "0                 Как потом подвели к каторжной работе.  generated\n",
       "1     В лице этого в которой он человек, но так мне ...  generated\n",
       "2                                         – Ну, видишь?  generated\n",
       "3     Анна Михайловна с каждым его страшным усилием,...  generated\n",
       "4     Пьер почувствовав, что князь Андрей для вас, н...  generated\n",
       "...                                                 ...        ...\n",
       "1245            Ах, Мари, как бы ему утешение, и будет.  generated\n",
       "1246  Она позволила себе подобных, точно так важно, ...  generated\n",
       "1247  - А папа держит под гору и стали слаживаться, ...  generated\n",
       "1248  Кроме того, что это не выказавший человеческог...  generated\n",
       "1249  Мы хотим обезьянничать глупым довольством в св...  generated\n",
       "\n",
       "[1250 rows x 2 columns]"
      ]
     },
     "execution_count": 468,
     "metadata": {},
     "output_type": "execute_result"
    }
   ],
   "source": [
    "X_test_generated_1"
   ]
  },
  {
   "cell_type": "code",
   "execution_count": 469,
   "metadata": {},
   "outputs": [
    {
     "data": {
      "text/html": [
       "<div>\n",
       "<style scoped>\n",
       "    .dataframe tbody tr th:only-of-type {\n",
       "        vertical-align: middle;\n",
       "    }\n",
       "\n",
       "    .dataframe tbody tr th {\n",
       "        vertical-align: top;\n",
       "    }\n",
       "\n",
       "    .dataframe thead th {\n",
       "        text-align: right;\n",
       "    }\n",
       "</style>\n",
       "<table border=\"1\" class=\"dataframe\">\n",
       "  <thead>\n",
       "    <tr style=\"text-align: right;\">\n",
       "      <th></th>\n",
       "      <th>text</th>\n",
       "      <th>class</th>\n",
       "    </tr>\n",
       "  </thead>\n",
       "  <tbody>\n",
       "    <tr>\n",
       "      <td>197</td>\n",
       "      <td>Мысли эти слова, пожимая ему нужно другое.</td>\n",
       "      <td>generated</td>\n",
       "    </tr>\n",
       "    <tr>\n",
       "      <td>22858</td>\n",
       "      <td>Я не хочу воспользоваться счастьем войны для у...</td>\n",
       "      <td>original</td>\n",
       "    </tr>\n",
       "    <tr>\n",
       "      <td>26380</td>\n",
       "      <td>- Ах, право, поздно, - сказал граф Орлов, погл...</td>\n",
       "      <td>original</td>\n",
       "    </tr>\n",
       "    <tr>\n",
       "      <td>1037</td>\n",
       "      <td>Князь Николай слишком смело!</td>\n",
       "      <td>generated</td>\n",
       "    </tr>\n",
       "    <tr>\n",
       "      <td>287</td>\n",
       "      <td>Она сидела всё узнаем.</td>\n",
       "      <td>generated</td>\n",
       "    </tr>\n",
       "    <tr>\n",
       "      <td>...</td>\n",
       "      <td>...</td>\n",
       "      <td>...</td>\n",
       "    </tr>\n",
       "    <tr>\n",
       "      <td>388</td>\n",
       "      <td>Всё от рыданий и торопливо оглядывалась на нее.</td>\n",
       "      <td>generated</td>\n",
       "    </tr>\n",
       "    <tr>\n",
       "      <td>5070</td>\n",
       "      <td>Князь Андрей, запихавшись от быстроты езды, го...</td>\n",
       "      <td>original</td>\n",
       "    </tr>\n",
       "    <tr>\n",
       "      <td>24218</td>\n",
       "      <td>- Вы?</td>\n",
       "      <td>original</td>\n",
       "    </tr>\n",
       "    <tr>\n",
       "      <td>44</td>\n",
       "      <td>La moitie des hommes!</td>\n",
       "      <td>generated</td>\n",
       "    </tr>\n",
       "    <tr>\n",
       "      <td>6379</td>\n",
       "      <td>M-lle Bourienne давно ждала того русского княз...</td>\n",
       "      <td>original</td>\n",
       "    </tr>\n",
       "  </tbody>\n",
       "</table>\n",
       "<p>2500 rows × 2 columns</p>\n",
       "</div>"
      ],
      "text/plain": [
       "                                                    text      class\n",
       "197           Мысли эти слова, пожимая ему нужно другое.  generated\n",
       "22858  Я не хочу воспользоваться счастьем войны для у...   original\n",
       "26380  - Ах, право, поздно, - сказал граф Орлов, погл...   original\n",
       "1037                        Князь Николай слишком смело!  generated\n",
       "287                               Она сидела всё узнаем.  generated\n",
       "...                                                  ...        ...\n",
       "388      Всё от рыданий и торопливо оглядывалась на нее.  generated\n",
       "5070   Князь Андрей, запихавшись от быстроты езды, го...   original\n",
       "24218                                              - Вы?   original\n",
       "44                                 La moitie des hommes!  generated\n",
       "6379   M-lle Bourienne давно ждала того русского княз...   original\n",
       "\n",
       "[2500 rows x 2 columns]"
      ]
     },
     "execution_count": 469,
     "metadata": {},
     "output_type": "execute_result"
    }
   ],
   "source": [
    "test_1_df = pd.concat(\n",
    "    (pd.concat((X_test_original, y_test_original), axis=1),\n",
    "    X_test_generated_1)\n",
    ")\n",
    "test_1_df = test_1_df.sample(frac=1, random_state=42)\n",
    "test_1_df"
   ]
  },
  {
   "cell_type": "code",
   "execution_count": 470,
   "metadata": {},
   "outputs": [],
   "source": [
    "X_test_1 = test_1_df['text']\n",
    "y_test_1 = test_1_df['class']"
   ]
  },
  {
   "cell_type": "code",
   "execution_count": 477,
   "metadata": {},
   "outputs": [
    {
     "name": "stdout",
     "output_type": "stream",
     "text": [
      "              precision    recall  f1-score   support\n",
      "\n",
      "   generated       0.57      0.66      0.61      1250\n",
      "    original       0.60      0.50      0.54      1250\n",
      "\n",
      "    accuracy                           0.58      2500\n",
      "   macro avg       0.58      0.58      0.58      2500\n",
      "weighted avg       0.58      0.58      0.58      2500\n",
      "\n"
     ]
    }
   ],
   "source": [
    "print(classification_report(y_test_1, grid.predict(X_test_1)))"
   ]
  },
  {
   "cell_type": "code",
   "execution_count": 480,
   "metadata": {},
   "outputs": [],
   "source": [
    "original_model_5 = markovify.NewlineText(original_sentences, state_size=5)"
   ]
  },
  {
   "cell_type": "code",
   "execution_count": 490,
   "metadata": {},
   "outputs": [
    {
     "name": "stdout",
     "output_type": "stream",
     "text": [
      "Wall time: 7min 38s\n"
     ]
    }
   ],
   "source": [
    "%%time\n",
    "\n",
    "X_test_generated_5 = []\n",
    "for i in range(1250):\n",
    "    X_test_generated_5.append(original_model_5.make_sentence(tries=10000))"
   ]
  },
  {
   "cell_type": "code",
   "execution_count": 491,
   "metadata": {},
   "outputs": [],
   "source": [
    "X_test_generated_5 = pd.DataFrame(X_test_generated_5, columns=['text'])"
   ]
  },
  {
   "cell_type": "code",
   "execution_count": 492,
   "metadata": {},
   "outputs": [
    {
     "data": {
      "text/plain": [
       "False    1250\n",
       "Name: text, dtype: int64"
      ]
     },
     "execution_count": 492,
     "metadata": {},
     "output_type": "execute_result"
    }
   ],
   "source": [
    "X_test_generated_5['text'].isna().value_counts()"
   ]
  },
  {
   "cell_type": "code",
   "execution_count": 493,
   "metadata": {},
   "outputs": [],
   "source": [
    "X_test_generated_5['class'] = 'generated'"
   ]
  },
  {
   "cell_type": "code",
   "execution_count": 494,
   "metadata": {},
   "outputs": [
    {
     "data": {
      "text/html": [
       "<div>\n",
       "<style scoped>\n",
       "    .dataframe tbody tr th:only-of-type {\n",
       "        vertical-align: middle;\n",
       "    }\n",
       "\n",
       "    .dataframe tbody tr th {\n",
       "        vertical-align: top;\n",
       "    }\n",
       "\n",
       "    .dataframe thead th {\n",
       "        text-align: right;\n",
       "    }\n",
       "</style>\n",
       "<table border=\"1\" class=\"dataframe\">\n",
       "  <thead>\n",
       "    <tr style=\"text-align: right;\">\n",
       "      <th></th>\n",
       "      <th>text</th>\n",
       "      <th>class</th>\n",
       "    </tr>\n",
       "  </thead>\n",
       "  <tbody>\n",
       "    <tr>\n",
       "      <td>0</td>\n",
       "      <td>Я и тогда чувствовал, думал он, я чувствовал т...</td>\n",
       "      <td>generated</td>\n",
       "    </tr>\n",
       "    <tr>\n",
       "      <td>1</td>\n",
       "      <td>Ростову, как от звуков самой веселой музыки, с...</td>\n",
       "      <td>generated</td>\n",
       "    </tr>\n",
       "    <tr>\n",
       "      <td>2</td>\n",
       "      <td>Sire, - продолжал Паулучи с отчаянностью, как ...</td>\n",
       "      <td>generated</td>\n",
       "    </tr>\n",
       "    <tr>\n",
       "      <td>3</td>\n",
       "      <td>И он повернул лошадь и поскакал назад к тому м...</td>\n",
       "      <td>generated</td>\n",
       "    </tr>\n",
       "    <tr>\n",
       "      <td>4</td>\n",
       "      <td>Если цель - величие Франции, то эта цель могла...</td>\n",
       "      <td>generated</td>\n",
       "    </tr>\n",
       "    <tr>\n",
       "      <td>...</td>\n",
       "      <td>...</td>\n",
       "      <td>...</td>\n",
       "    </tr>\n",
       "    <tr>\n",
       "      <td>1245</td>\n",
       "      <td>Он тронул лошадь, скомандовал и в то же мгнове...</td>\n",
       "      <td>generated</td>\n",
       "    </tr>\n",
       "    <tr>\n",
       "      <td>1246</td>\n",
       "      <td>Наполеон позавтракал и опять стоял на том же м...</td>\n",
       "      <td>generated</td>\n",
       "    </tr>\n",
       "    <tr>\n",
       "      <td>1247</td>\n",
       "      <td>Историки, по старой привычке признания божеств...</td>\n",
       "      <td>generated</td>\n",
       "    </tr>\n",
       "    <tr>\n",
       "      <td>1248</td>\n",
       "      <td>Его нет, а есть тут же, на том же месте, где о...</td>\n",
       "      <td>generated</td>\n",
       "    </tr>\n",
       "    <tr>\n",
       "      <td>1249</td>\n",
       "      <td>Жюли в это время, по случаю смерти братьев сде...</td>\n",
       "      <td>generated</td>\n",
       "    </tr>\n",
       "  </tbody>\n",
       "</table>\n",
       "<p>1250 rows × 2 columns</p>\n",
       "</div>"
      ],
      "text/plain": [
       "                                                   text      class\n",
       "0     Я и тогда чувствовал, думал он, я чувствовал т...  generated\n",
       "1     Ростову, как от звуков самой веселой музыки, с...  generated\n",
       "2     Sire, - продолжал Паулучи с отчаянностью, как ...  generated\n",
       "3     И он повернул лошадь и поскакал назад к тому м...  generated\n",
       "4     Если цель - величие Франции, то эта цель могла...  generated\n",
       "...                                                 ...        ...\n",
       "1245  Он тронул лошадь, скомандовал и в то же мгнове...  generated\n",
       "1246  Наполеон позавтракал и опять стоял на том же м...  generated\n",
       "1247  Историки, по старой привычке признания божеств...  generated\n",
       "1248  Его нет, а есть тут же, на том же месте, где о...  generated\n",
       "1249  Жюли в это время, по случаю смерти братьев сде...  generated\n",
       "\n",
       "[1250 rows x 2 columns]"
      ]
     },
     "execution_count": 494,
     "metadata": {},
     "output_type": "execute_result"
    }
   ],
   "source": [
    "X_test_generated_5"
   ]
  },
  {
   "cell_type": "code",
   "execution_count": 495,
   "metadata": {},
   "outputs": [
    {
     "data": {
      "text/html": [
       "<div>\n",
       "<style scoped>\n",
       "    .dataframe tbody tr th:only-of-type {\n",
       "        vertical-align: middle;\n",
       "    }\n",
       "\n",
       "    .dataframe tbody tr th {\n",
       "        vertical-align: top;\n",
       "    }\n",
       "\n",
       "    .dataframe thead th {\n",
       "        text-align: right;\n",
       "    }\n",
       "</style>\n",
       "<table border=\"1\" class=\"dataframe\">\n",
       "  <thead>\n",
       "    <tr style=\"text-align: right;\">\n",
       "      <th></th>\n",
       "      <th>text</th>\n",
       "      <th>class</th>\n",
       "    </tr>\n",
       "  </thead>\n",
       "  <tbody>\n",
       "    <tr>\n",
       "      <td>197</td>\n",
       "      <td>Наполеон начал войну с Россией потому, что он ...</td>\n",
       "      <td>generated</td>\n",
       "    </tr>\n",
       "    <tr>\n",
       "      <td>22858</td>\n",
       "      <td>Я не хочу воспользоваться счастьем войны для у...</td>\n",
       "      <td>original</td>\n",
       "    </tr>\n",
       "    <tr>\n",
       "      <td>26380</td>\n",
       "      <td>- Ах, право, поздно, - сказал граф Орлов, погл...</td>\n",
       "      <td>original</td>\n",
       "    </tr>\n",
       "    <tr>\n",
       "      <td>1037</td>\n",
       "      <td>С тех пор как Наташе в нынешнее утро сказали о...</td>\n",
       "      <td>generated</td>\n",
       "    </tr>\n",
       "    <tr>\n",
       "      <td>287</td>\n",
       "      <td>Частные историки биографические и историки отд...</td>\n",
       "      <td>generated</td>\n",
       "    </tr>\n",
       "    <tr>\n",
       "      <td>...</td>\n",
       "      <td>...</td>\n",
       "      <td>...</td>\n",
       "    </tr>\n",
       "    <tr>\n",
       "      <td>388</td>\n",
       "      <td>- Как ты нагрела, однако, - сказал он, - ну, п...</td>\n",
       "      <td>generated</td>\n",
       "    </tr>\n",
       "    <tr>\n",
       "      <td>5070</td>\n",
       "      <td>Князь Андрей, запихавшись от быстроты езды, го...</td>\n",
       "      <td>original</td>\n",
       "    </tr>\n",
       "    <tr>\n",
       "      <td>24218</td>\n",
       "      <td>- Вы?</td>\n",
       "      <td>original</td>\n",
       "    </tr>\n",
       "    <tr>\n",
       "      <td>44</td>\n",
       "      <td>В первый раз Николай почувствовал, что мать не...</td>\n",
       "      <td>generated</td>\n",
       "    </tr>\n",
       "    <tr>\n",
       "      <td>6379</td>\n",
       "      <td>M-lle Bourienne давно ждала того русского княз...</td>\n",
       "      <td>original</td>\n",
       "    </tr>\n",
       "  </tbody>\n",
       "</table>\n",
       "<p>2500 rows × 2 columns</p>\n",
       "</div>"
      ],
      "text/plain": [
       "                                                    text      class\n",
       "197    Наполеон начал войну с Россией потому, что он ...  generated\n",
       "22858  Я не хочу воспользоваться счастьем войны для у...   original\n",
       "26380  - Ах, право, поздно, - сказал граф Орлов, погл...   original\n",
       "1037   С тех пор как Наташе в нынешнее утро сказали о...  generated\n",
       "287    Частные историки биографические и историки отд...  generated\n",
       "...                                                  ...        ...\n",
       "388    - Как ты нагрела, однако, - сказал он, - ну, п...  generated\n",
       "5070   Князь Андрей, запихавшись от быстроты езды, го...   original\n",
       "24218                                              - Вы?   original\n",
       "44     В первый раз Николай почувствовал, что мать не...  generated\n",
       "6379   M-lle Bourienne давно ждала того русского княз...   original\n",
       "\n",
       "[2500 rows x 2 columns]"
      ]
     },
     "execution_count": 495,
     "metadata": {},
     "output_type": "execute_result"
    }
   ],
   "source": [
    "test_5_df = pd.concat(\n",
    "    (pd.concat((X_test_original, y_test_original), axis=1),\n",
    "    X_test_generated_5)\n",
    ")\n",
    "test_5_df = test_5_df.sample(frac=1, random_state=42)\n",
    "test_5_df"
   ]
  },
  {
   "cell_type": "code",
   "execution_count": 496,
   "metadata": {},
   "outputs": [],
   "source": [
    "X_test_5 = test_5_df['text']\n",
    "y_test_5 = test_5_df['class']"
   ]
  },
  {
   "cell_type": "code",
   "execution_count": 497,
   "metadata": {},
   "outputs": [
    {
     "name": "stdout",
     "output_type": "stream",
     "text": [
      "              precision    recall  f1-score   support\n",
      "\n",
      "   generated       0.65      0.95      0.77      1250\n",
      "    original       0.91      0.50      0.64      1250\n",
      "\n",
      "    accuracy                           0.72      2500\n",
      "   macro avg       0.78      0.72      0.71      2500\n",
      "weighted avg       0.78      0.72      0.71      2500\n",
      "\n"
     ]
    }
   ],
   "source": [
    "print(classification_report(y_test_5, grid.predict(X_test_5)))"
   ]
  },
  {
   "cell_type": "code",
   "execution_count": null,
   "metadata": {},
   "outputs": [],
   "source": []
  }
 ],
 "metadata": {
  "kernelspec": {
   "display_name": "Python 3",
   "language": "python",
   "name": "python3"
  },
  "language_info": {
   "codemirror_mode": {
    "name": "ipython",
    "version": 3
   },
   "file_extension": ".py",
   "mimetype": "text/x-python",
   "name": "python",
   "nbconvert_exporter": "python",
   "pygments_lexer": "ipython3",
   "version": "3.7.3"
  }
 },
 "nbformat": 4,
 "nbformat_minor": 2
}
